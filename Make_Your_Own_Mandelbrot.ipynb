{
  "nbformat": 4,
  "nbformat_minor": 0,
  "metadata": {
    "colab": {
      "provenance": [],
      "authorship_tag": "ABX9TyOVJmuIWk10L8DbqJMnQ3IS",
      "include_colab_link": true
    },
    "kernelspec": {
      "name": "python3",
      "display_name": "Python 3"
    },
    "language_info": {
      "name": "python"
    }
  },
  "cells": [
    {
      "cell_type": "markdown",
      "metadata": {
        "id": "view-in-github",
        "colab_type": "text"
      },
      "source": [
        "<a href=\"https://colab.research.google.com/github/rzeta0/Make-Your-Own-Mandelbrot/blob/main/Make_Your_Own_Mandelbrot.ipynb\" target=\"_parent\"><img src=\"https://colab.research.google.com/assets/colab-badge.svg\" alt=\"Open In Colab\"/></a>"
      ]
    },
    {
      "cell_type": "markdown",
      "source": [
        "**Mandelbrot Set**\n",
        "\n",
        "\"Make Your Own Mandelbrot\" Second Edition\n",
        "\n",
        "This work is licensed under CC BY-SA 4.0"
      ],
      "metadata": {
        "id": "l6-Oy0HkTEBh"
      }
    },
    {
      "cell_type": "code",
      "execution_count": null,
      "metadata": {
        "id": "UnQ5M4g0S67d"
      },
      "outputs": [],
      "source": []
    }
  ]
}